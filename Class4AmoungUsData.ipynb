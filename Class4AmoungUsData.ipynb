{
 "cells": [
  {
   "cell_type": "code",
   "execution_count": 1,
   "id": "12088390",
   "metadata": {},
   "outputs": [],
   "source": [
    "import csv"
   ]
  },
  {
   "cell_type": "code",
   "execution_count": 6,
   "id": "5de6341f",
   "metadata": {},
   "outputs": [],
   "source": [
    "with open('class4DataTable.csv', newline='') as csvfile:\n",
    "    # using our variable csvfile to read the csv\n",
    "    csv_reader = csv.reader(csvfile)\n",
    "    headers = next(csv_reader)\n",
    "    data = []\n",
    "    for row in csv_reader:\n",
    "        data.append(row)"
   ]
  },
  {
   "cell_type": "code",
   "execution_count": 7,
   "id": "d618ca51",
   "metadata": {},
   "outputs": [
    {
     "data": {
      "text/plain": [
       "['Timestamp',\n",
       " 'What is your name?',\n",
       " 'What is your FAVOURITE movie genre by of choice?',\n",
       " 'When watching a movie, what confectionery do you like?',\n",
       " 'Do you prefer watching movies at home or at the cinema?',\n",
       " 'when going to the cinema, where do you like to be seated?',\n",
       " 'When watching a movie your excited about do you go to an early(morning) showing or a late(evening) showing?',\n",
       " 'i prefer to watch moviesâ€¦',\n",
       " 'what genre do you like the LEAST?']"
      ]
     },
     "execution_count": 7,
     "metadata": {},
     "output_type": "execute_result"
    }
   ],
   "source": [
    "headers"
   ]
  },
  {
   "cell_type": "code",
   "execution_count": 8,
   "id": "f7320ec1",
   "metadata": {},
   "outputs": [
    {
     "data": {
      "text/plain": [
       "['20/11/2022 08:58:44',\n",
       " 'Oliver m ',\n",
       " 'Action',\n",
       " 'Sweet popcorn',\n",
       " 'Home',\n",
       " 'Center',\n",
       " 'Afternoon',\n",
       " 'With friends and family',\n",
       " 'Sci fi']"
      ]
     },
     "execution_count": 8,
     "metadata": {},
     "output_type": "execute_result"
    }
   ],
   "source": [
    "#shows me the profile of a person's responses in a data row\n",
    "data[3]"
   ]
  },
  {
   "cell_type": "code",
   "execution_count": 12,
   "id": "b2af871f",
   "metadata": {},
   "outputs": [
    {
     "name": "stdout",
     "output_type": "stream",
     "text": [
      "{'Sweet popcorn': 9, 'Fast food': 5, 'Candy': 2, 'Salty Popcorn': 4}\n"
     ]
    }
   ],
   "source": [
    "# creating an empty dictionary\n",
    "community_choices = {}\n",
    "\n",
    "for row in data:\n",
    "    # if key in dictionary, add 1 to number of applicants\n",
    "    if row[3] in community_choices:\n",
    "        community_choices[row[3]] += 1\n",
    "    # if not, add the option(key) to the dictionary\n",
    "    else:\n",
    "        community_choices[row[3]] = 1\n",
    "\n",
    "print(community_choices)"
   ]
  },
  {
   "cell_type": "code",
   "execution_count": 16,
   "id": "c2344bad",
   "metadata": {},
   "outputs": [
    {
     "data": {
      "text/plain": [
       "['Sweet popcorn',\n",
       " 'Sweet popcorn',\n",
       " 'Sweet popcorn',\n",
       " 'Sweet popcorn',\n",
       " 'Sweet popcorn',\n",
       " 'Fast food',\n",
       " 'Sweet popcorn',\n",
       " 'Sweet popcorn',\n",
       " 'Fast food',\n",
       " 'Candy',\n",
       " 'Fast food',\n",
       " 'Fast food',\n",
       " 'Salty Popcorn',\n",
       " 'Salty Popcorn',\n",
       " 'Sweet popcorn',\n",
       " 'Candy',\n",
       " 'Salty Popcorn',\n",
       " 'Sweet popcorn',\n",
       " 'Fast food',\n",
       " 'Salty Popcorn']"
      ]
     },
     "execution_count": 16,
     "metadata": {},
     "output_type": "execute_result"
    }
   ],
   "source": [
    "# using a list comprehension to grab the third column from every row\n",
    "how_many_years = [x[3] for x in data]\n",
    "how_many_years"
   ]
  },
  {
   "cell_type": "code",
   "execution_count": 17,
   "id": "9f891635",
   "metadata": {},
   "outputs": [
    {
     "name": "stdout",
     "output_type": "stream",
     "text": [
      "Sweet popcorn\n",
      "Candy\n"
     ]
    }
   ],
   "source": [
    "print(max(how_many_years))\n",
    "print(min(how_many_years))"
   ]
  },
  {
   "cell_type": "code",
   "execution_count": null,
   "id": "48645ec5",
   "metadata": {},
   "outputs": [],
   "source": []
  }
 ],
 "metadata": {
  "kernelspec": {
   "display_name": "Python 3 (ipykernel)",
   "language": "python",
   "name": "python3"
  },
  "language_info": {
   "codemirror_mode": {
    "name": "ipython",
    "version": 3
   },
   "file_extension": ".py",
   "mimetype": "text/x-python",
   "name": "python",
   "nbconvert_exporter": "python",
   "pygments_lexer": "ipython3",
   "version": "3.11.0"
  }
 },
 "nbformat": 4,
 "nbformat_minor": 5
}
